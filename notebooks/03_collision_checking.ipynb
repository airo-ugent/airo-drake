{
 "cells": [
  {
   "cell_type": "markdown",
   "metadata": {},
   "source": [
    "# Collision checking tutorial 💥\n",
    "\n",
    "This notebook shows how to:\n",
    "* Set up collision checking for joint configurations\n",
    "* Apply collision checking to joint and TCP paths"
   ]
  },
  {
   "cell_type": "markdown",
   "metadata": {},
   "source": [
    "## 1. Creating a `SceneGraphCollisionChecker` 🛡️\n",
    "Drake provides a very convenient class called [`SceneGraphCollisionChecker`](https://drake.mit.edu/doxygen_cxx/group__planning__collision__checker.html) that checks for collisions between the robot's links itself and its environment.\n",
    "After you set it up with a `RobotDiagram`, you can check for collisions with:\n",
    "```python\n",
    "collision_checker.CheckConfigCollisionFree(q)\n",
    "```\n",
    "Where `q` are all the joint positions of the `MultibodyPlant`.\n",
    "\n",
    "In the previous notebooks we showed how to quickly create a `RobotDiagram` with a UR5e and Robotiq 2F-85 gripper.\n",
    "You might have noticed that gripper introduces 6 degrees of freedom.\n",
    "However, in this notebook we will, for simplicity, make the gripper static and do collision checks with the gripper in a fixed open position."
   ]
  },
  {
   "cell_type": "code",
   "execution_count": 1,
   "metadata": {},
   "outputs": [
    {
     "name": "stderr",
     "output_type": "stream",
     "text": [
      "INFO:drake:Meshcat listening for connections at http://localhost:7000\n"
     ]
    },
    {
     "data": {
      "text/plain": [
       "SingleArmScene(robot_diagram=<pydrake.planning.RobotDiagram object at 0x7fefd9b876f0>, arm_index=ModelInstanceIndex(2), gripper_index=ModelInstanceIndex(3), meshcat=<pydrake.geometry.Meshcat object at 0x7feff546c7b0>)"
      ]
     },
     "execution_count": 1,
     "metadata": {},
     "output_type": "execute_result"
    }
   ],
   "source": [
    "import numpy as np\n",
    "from pydrake.planning import RobotDiagramBuilder, RobotCollisionType\n",
    "from airo_drake import SingleArmScene, add_floor, add_manipulator, add_meshcat, finish_build\n",
    "\n",
    "robot_diagram_builder = RobotDiagramBuilder()\n",
    "\n",
    "meshcat = add_meshcat(robot_diagram_builder)\n",
    "arm_index, gripper_index = add_manipulator(robot_diagram_builder, \"ur5e\", \"robotiq_2f_85\", static_gripper=True)\n",
    "floor_index = add_floor(robot_diagram_builder)\n",
    "robot_diagram, context = finish_build(robot_diagram_builder)\n",
    "\n",
    "scene = SingleArmScene(robot_diagram, arm_index, gripper_index, meshcat)\n",
    "scene"
   ]
  },
  {
   "cell_type": "code",
   "execution_count": 2,
   "metadata": {},
   "outputs": [
    {
     "data": {
      "text/plain": [
       "(6, 6, 0)"
      ]
     },
     "execution_count": 2,
     "metadata": {},
     "output_type": "execute_result"
    }
   ],
   "source": [
    "plant = scene.robot_diagram.plant()\n",
    "plant.num_positions(), plant.num_positions(arm_index), plant.num_positions(gripper_index)"
   ]
  },
  {
   "cell_type": "code",
   "execution_count": 3,
   "metadata": {},
   "outputs": [
    {
     "name": "stderr",
     "output_type": "stream",
     "text": [
      "INFO:drake:Allocating contexts to support implicit context parallelism 8\n"
     ]
    }
   ],
   "source": [
    "from pydrake.planning import SceneGraphCollisionChecker\n",
    "\n",
    "collision_checker = SceneGraphCollisionChecker(\n",
    "    model=scene.robot_diagram,\n",
    "    robot_model_instances=[scene.arm_index, scene.gripper_index],\n",
    "    edge_step_size=0.125,  # Arbitrary value: we don't use the CheckEdgeCollisionFree\n",
    "    env_collision_padding=0.005,\n",
    "    self_collision_padding=0.005,\n",
    ")"
   ]
  },
  {
   "cell_type": "markdown",
   "metadata": {},
   "source": [
    "## 2. Checking joint configurations 🤖\n",
    "\n",
    "Lets test some joint configurations for collisions!\n",
    "\n",
    "First, the default configuration. You can see in Meshcat that the robot is just barely not colliding with the table."
   ]
  },
  {
   "cell_type": "code",
   "execution_count": 4,
   "metadata": {},
   "outputs": [
    {
     "data": {
      "text/plain": [
       "True"
      ]
     },
     "execution_count": 4,
     "metadata": {},
     "output_type": "execute_result"
    }
   ],
   "source": [
    "collision_checker.CheckConfigCollisionFree(np.zeros(6))"
   ]
  },
  {
   "cell_type": "markdown",
   "metadata": {},
   "source": [
    "UR robots are always in self-collsion when elbow joint is at 180 degrees:"
   ]
  },
  {
   "cell_type": "code",
   "execution_count": 5,
   "metadata": {},
   "outputs": [
    {
     "data": {
      "text/plain": [
       "False"
      ]
     },
     "execution_count": 5,
     "metadata": {},
     "output_type": "execute_result"
    }
   ],
   "source": [
    "joints_self_collision = np.deg2rad([0, 0, 180, 0, 0, 0])\n",
    "collision_checker.CheckConfigCollisionFree(joints_self_collision)"
   ]
  },
  {
   "cell_type": "markdown",
   "metadata": {},
   "source": [
    "Lets double-check that visually:"
   ]
  },
  {
   "cell_type": "code",
   "execution_count": 6,
   "metadata": {},
   "outputs": [],
   "source": [
    "plant = scene.robot_diagram.plant()\n",
    "plant_context = plant.GetMyContextFromRoot(context)\n",
    "\n",
    "plant.SetPositions(plant_context, scene.arm_index, joints_self_collision)\n",
    "scene.robot_diagram.ForcedPublish(context) # updates the meshcat visualization"
   ]
  },
  {
   "cell_type": "markdown",
   "metadata": {},
   "source": [
    "We can make the robot collide with the table by make the shoulder angle slightly larger"
   ]
  },
  {
   "cell_type": "code",
   "execution_count": 7,
   "metadata": {},
   "outputs": [
    {
     "data": {
      "text/plain": [
       "False"
      ]
     },
     "execution_count": 7,
     "metadata": {},
     "output_type": "execute_result"
    }
   ],
   "source": [
    "joints_table_collision = np.deg2rad([0, 5, 0, 0, 0, 0])\n",
    "collision_checker.CheckConfigCollisionFree(joints_table_collision)"
   ]
  },
  {
   "cell_type": "code",
   "execution_count": 8,
   "metadata": {},
   "outputs": [],
   "source": [
    "plant.SetPositions(plant_context, scene.arm_index, joints_table_collision)\n",
    "scene.robot_diagram.ForcedPublish(context)"
   ]
  },
  {
   "cell_type": "markdown",
   "metadata": {},
   "source": [
    "We can also check which bodies are colliding."
   ]
  },
  {
   "cell_type": "code",
   "execution_count": 9,
   "metadata": {},
   "outputs": [
    {
     "name": "stdout",
     "output_type": "stream",
     "text": [
      "Body ur5e::wrist_2_link is colliding with body floor::base_link (type: environment)\n",
      "Body ur5e::wrist_3_link is colliding with body floor::base_link (type: environment)\n",
      "Body robotiq_arg2f_85_model::base_link is colliding with body floor::base_link (type: environment)\n",
      "Body robotiq_arg2f_85_model::left_outer_knuckle is colliding with body floor::base_link (type: environment)\n",
      "Body robotiq_arg2f_85_model::left_outer_finger is colliding with body floor::base_link (type: environment)\n",
      "Body robotiq_arg2f_85_model::left_inner_finger is colliding with body floor::base_link (type: environment)\n",
      "Body robotiq_arg2f_85_model::left_inner_finger_pad is colliding with body floor::base_link (type: environment)\n",
      "Body robotiq_arg2f_85_model::left_inner_knuckle is colliding with body floor::base_link (type: environment)\n",
      "Body robotiq_arg2f_85_model::right_outer_knuckle is colliding with body floor::base_link (type: environment)\n",
      "Body robotiq_arg2f_85_model::right_outer_finger is colliding with body floor::base_link (type: environment)\n",
      "Body robotiq_arg2f_85_model::right_inner_finger is colliding with body floor::base_link (type: environment)\n",
      "Body robotiq_arg2f_85_model::right_inner_finger_pad is colliding with body floor::base_link (type: environment)\n",
      "Body robotiq_arg2f_85_model::right_inner_knuckle is colliding with body floor::base_link (type: environment)\n"
     ]
    }
   ],
   "source": [
    "def print_robot_collisions():\n",
    "    robot_clearance = collision_checker.CalcRobotClearance(joints_table_collision, 1.0)\n",
    "    indices_one = robot_clearance.robot_indices()\n",
    "    indices_two = robot_clearance.other_indices()\n",
    "    collision_types = robot_clearance.collision_types()\n",
    "    distances = robot_clearance.distances()\n",
    "\n",
    "    collision_type_strings = {\n",
    "        RobotCollisionType.kEnvironmentCollision: \"environment\",\n",
    "        RobotCollisionType.kSelfCollision: \"self\",\n",
    "        RobotCollisionType.kEnvironmentAndSelfCollision: \"environment and self\"\n",
    "    }\n",
    "\n",
    "    for index in range(len(indices_one)):\n",
    "        if distances[index] <= 0.0:\n",
    "            bodyA_name = plant.get_body(indices_one[index]).scoped_name()\n",
    "            bodyB_name = plant.get_body(indices_two[index]).scoped_name()\n",
    "            collision_type = collision_types[index]\n",
    "            print(f\"Body {bodyA_name} is colliding with body {bodyB_name} (type: {collision_type_strings[collision_type]})\")\n",
    "\n",
    "print_robot_collisions()"
   ]
  },
  {
   "cell_type": "markdown",
   "metadata": {},
   "source": [
    "## Checking joint paths 🛤️"
   ]
  },
  {
   "cell_type": "code",
   "execution_count": 10,
   "metadata": {},
   "outputs": [
    {
     "name": "stdout",
     "output_type": "stream",
     "text": [
      "True\n"
     ]
    }
   ],
   "source": [
    "start_joints = np.deg2rad([0, -90, 90, -90, -90, 0])\n",
    "\n",
    "print(collision_checker.CheckConfigCollisionFree(start_joints))\n",
    "\n",
    "plant.SetPositions(plant_context, scene.arm_index, start_joints)\n",
    "scene.robot_diagram.ForcedPublish(context)"
   ]
  },
  {
   "cell_type": "code",
   "execution_count": 11,
   "metadata": {},
   "outputs": [
    {
     "name": "stdout",
     "output_type": "stream",
     "text": [
      "True\n"
     ]
    }
   ],
   "source": [
    "goal_joints = np.deg2rad([0, -90, 90, 180, -110, 0])\n",
    "\n",
    "print(collision_checker.CheckConfigCollisionFree(goal_joints))\n",
    "\n",
    "plant.SetPositions(plant_context, scene.arm_index, goal_joints)\n",
    "scene.robot_diagram.ForcedPublish(context)"
   ]
  },
  {
   "cell_type": "code",
   "execution_count": 12,
   "metadata": {},
   "outputs": [],
   "source": [
    "from airo_drake import animate_joint_configurations\n",
    "\n",
    "joint_path = np.linspace(start_joints, goal_joints, 20)\n",
    "animate_joint_configurations(scene.meshcat, scene.robot_diagram, scene.arm_index, joint_path, context=context)"
   ]
  },
  {
   "cell_type": "code",
   "execution_count": 13,
   "metadata": {},
   "outputs": [
    {
     "name": "stdout",
     "output_type": "stream",
     "text": [
      "[1, 1, 1, 1, 1, 1, 1, 1, 0, 0, 1, 1, 1, 1, 1, 1, 1, 1, 1, 1]\n"
     ]
    },
    {
     "data": {
      "text/plain": [
       "'✅✅✅✅✅✅✅✅💥💥✅✅✅✅✅✅✅✅✅✅'"
      ]
     },
     "execution_count": 13,
     "metadata": {},
     "output_type": "execute_result"
    }
   ],
   "source": [
    "def path_collisions_as_emojis(is_collision_free: list[bool]):\n",
    "    \"\"\"Displays an emoji-based visualization of a path's collisions.\n",
    "\n",
    "    Example output: \"✅✅💥✅✅✅💥✅✅✅✅\"\n",
    "\n",
    "    Args:\n",
    "        is_collision_free: A list of booleans, where True indicates no collision.\n",
    "\n",
    "    Returns:\n",
    "        A string of emojis representing the collision status of the path.\n",
    "    \"\"\"\n",
    "    emojis = [\"✅\" if is_free else \"💥\" for is_free in is_collision_free]\n",
    "    emoji_str = \"\".join(emojis)\n",
    "    return emoji_str\n",
    "\n",
    "print(collision_checker.CheckConfigsCollisionFree(joint_path))\n",
    "path_collisions_as_emojis(collision_checker.CheckConfigsCollisionFree(joint_path))"
   ]
  },
  {
   "cell_type": "markdown",
   "metadata": {},
   "source": [
    "## Checking TCP paths 📏\n",
    "\n",
    "### Use case 1: Grasping a hanging shirt 👕\n",
    "\n",
    "For the cloth competition, I've had the problem that my `pregrasp_pose` pose is collision-free, but moving linearly to the `grasp_pose` make the robot elbow collide with the table.\n",
    "\n",
    "Below is a recreation of this scenario, and a demonstration of how checking the TCP path can help us avoid this problem."
   ]
  },
  {
   "cell_type": "code",
   "execution_count": 14,
   "metadata": {},
   "outputs": [],
   "source": [
    "from airo_drake import visualize_frame\n",
    "\n",
    "\n",
    "# grasp_location = np.array([0.2, 0.5, 0.5]) # This moves the robot through a singularlity for some start configurations\n",
    "grasp_location = np.array([0.2, 0.4, 0.55])\n",
    "\n",
    "gripper_forward_direction = np.array([1, 0, 0])\n",
    "\n",
    "Z = gripper_forward_direction / np.linalg.norm(gripper_forward_direction)\n",
    "Y = np.array([0, 0, -1])  # 0, 0, 1 is also an option\n",
    "X = np.cross(Y, Z)\n",
    "\n",
    "grasp_orientation = np.column_stack([X, Y, Z])\n",
    "grasp_pose = np.identity(4)\n",
    "grasp_pose[0:3, 0:3] = grasp_orientation\n",
    "grasp_pose[0:3, 3] = grasp_location\n",
    "\n",
    "pregrasp_pose = grasp_pose.copy()\n",
    "pregrasp_pose[0:3, 3] -= 0.4 * gripper_forward_direction\n",
    "\n",
    "visualize_frame(scene.meshcat, \"pregrasp_pose\", pregrasp_pose)\n",
    "visualize_frame(scene.meshcat, \"grasp_pose\", grasp_pose)"
   ]
  },
  {
   "cell_type": "code",
   "execution_count": 15,
   "metadata": {},
   "outputs": [
    {
     "data": {
      "text/plain": [
       "(8, 8)"
      ]
     },
     "execution_count": 15,
     "metadata": {},
     "output_type": "execute_result"
    }
   ],
   "source": [
    "from ur_analytic_ik import ur5e\n",
    "\n",
    "tcp_transform = np.identity(4)\n",
    "tcp_transform[2, 3] = 0.175 # 175 mm in z\n",
    "\n",
    "start_configurations = ur5e.inverse_kinematics_with_tcp(pregrasp_pose, tcp_transform)\n",
    "goal_configurations = ur5e.inverse_kinematics_with_tcp(grasp_pose, tcp_transform)\n",
    "\n",
    "start_configurations = np.array(start_configurations).squeeze()\n",
    "goal_configurations = np.array(goal_configurations).squeeze()\n",
    "\n",
    "len(start_configurations), len(goal_configurations)"
   ]
  },
  {
   "cell_type": "code",
   "execution_count": 16,
   "metadata": {},
   "outputs": [
    {
     "name": "stdout",
     "output_type": "stream",
     "text": [
      "✅✅💥💥✅✅✅✅\n",
      "✅💥✅💥✅✅💥✅\n"
     ]
    }
   ],
   "source": [
    "print(path_collisions_as_emojis(collision_checker.CheckConfigsCollisionFree(start_configurations)))\n",
    "print(path_collisions_as_emojis(collision_checker.CheckConfigsCollisionFree(goal_configurations)))"
   ]
  },
  {
   "cell_type": "code",
   "execution_count": 17,
   "metadata": {},
   "outputs": [],
   "source": [
    "animate_joint_configurations(scene.meshcat, scene.robot_diagram, scene.arm_index, start_configurations, duration=len(start_configurations))"
   ]
  },
  {
   "cell_type": "code",
   "execution_count": 18,
   "metadata": {},
   "outputs": [],
   "source": [
    "animate_joint_configurations(scene.meshcat, scene.robot_diagram, scene.arm_index, goal_configurations, duration=len(goal_configurations))"
   ]
  },
  {
   "cell_type": "code",
   "execution_count": 19,
   "metadata": {},
   "outputs": [
    {
     "data": {
      "text/plain": [
       "(20, 8, 6)"
      ]
     },
     "execution_count": 19,
     "metadata": {},
     "output_type": "execute_result"
    }
   ],
   "source": [
    "from airo_typing import HomogeneousMatrixType\n",
    "\n",
    "\n",
    "def interpolate_linearly(a, b, t):\n",
    "    return a + t * (b - a)\n",
    "\n",
    "\n",
    "def interpolate_pose_path_positions(pose_a: HomogeneousMatrixType, pose_b: HomogeneousMatrixType, n: int):\n",
    "    pose_path = []\n",
    "\n",
    "    orientation = pose_a[0:3, 0:3]\n",
    "    for i in np.linspace(0, 1, n):\n",
    "        pose_interpolated = np.identity(4)\n",
    "        position = interpolate_linearly(pose_a[0:3, 3], pose_b[0:3, 3], i)\n",
    "        pose_interpolated[0:3, 0:3] = orientation\n",
    "        pose_interpolated[0:3, 3] = position\n",
    "        pose_path.append(pose_interpolated)\n",
    "    return pose_path\n",
    "\n",
    "\n",
    "tcp_path = interpolate_pose_path_positions(pregrasp_pose, grasp_pose, n=20)\n",
    "\n",
    "for i, tcp_pose in enumerate(tcp_path):\n",
    "    visualize_frame(scene.meshcat, f\"tcp_path/pose_{i}\", tcp_pose, length=0.05, opacity=0.1)\n",
    "\n",
    "\n",
    "path_joints_solutions = []\n",
    "\n",
    "for tcp_pose in tcp_path:\n",
    "    joint_solutions = ur5e.inverse_kinematics_with_tcp(tcp_pose, tcp_transform)\n",
    "    path_joints_solutions.append(np.array(joint_solutions).squeeze())\n",
    "\n",
    "\n",
    "path_joints_solutions = np.array(\n",
    "    path_joints_solutions\n",
    ")  # note this is not always possible, because the number of solutions can change\n",
    "path_joints_solutions.shape"
   ]
  },
  {
   "cell_type": "code",
   "execution_count": 20,
   "metadata": {},
   "outputs": [
    {
     "data": {
      "text/plain": [
       "(8, 20, 6)"
      ]
     },
     "execution_count": 20,
     "metadata": {},
     "output_type": "execute_result"
    }
   ],
   "source": [
    "from airo_drake import create_paths_from_closest_solutions\n",
    "\n",
    "paths = create_paths_from_closest_solutions(path_joints_solutions)\n",
    "paths = np.array(paths)\n",
    "paths.shape"
   ]
  },
  {
   "cell_type": "code",
   "execution_count": 21,
   "metadata": {},
   "outputs": [
    {
     "name": "stdout",
     "output_type": "stream",
     "text": [
      "path 0: ✅✅✅💥💥💥💥💥💥💥✅✅✅✅✅✅✅✅✅✅\n",
      "path 1: ✅✅✅✅✅✅✅✅💥💥💥💥💥💥💥💥💥💥💥💥\n",
      "path 2: 💥💥💥💥✅✅✅✅✅✅✅✅✅✅✅✅✅✅✅✅\n",
      "path 3: 💥💥💥💥💥💥💥💥💥💥💥💥💥💥💥💥💥💥💥💥\n",
      "path 4: ✅✅✅✅✅✅✅✅✅✅✅✅✅✅✅✅✅✅✅✅\n",
      "path 5: ✅✅✅✅✅✅✅✅✅✅✅✅✅✅✅✅✅✅✅✅\n",
      "path 6: ✅✅✅✅✅✅✅✅💥💥💥💥💥💥💥💥💥💥💥💥\n",
      "path 7: ✅✅✅✅✅✅✅✅✅✅✅✅✅✅✅✅✅✅✅✅\n"
     ]
    }
   ],
   "source": [
    "for i, path in enumerate(paths):\n",
    "    print(f\"path {i}: {path_collisions_as_emojis(collision_checker.CheckConfigsCollisionFree(path))}\")"
   ]
  },
  {
   "cell_type": "code",
   "execution_count": 22,
   "metadata": {},
   "outputs": [
    {
     "data": {
      "image/png": "[encoded data removed]",
      "text/plain": [
       "<Figure size 2000x800 with 1 Axes>"
      ]
     },
     "metadata": {},
     "output_type": "display_data"
    }
   ],
   "source": [
    "import matplotlib\n",
    "import matplotlib.pyplot as plt\n",
    "from airo_drake import calculate_joint_path_outlier_threshold\n",
    "\n",
    "path_distances = [np.linalg.norm(np.diff(path, axis=0), axis=1) for path in paths]\n",
    "thresholds = [calculate_joint_path_outlier_threshold(distances) for distances in path_distances]\n",
    "\n",
    "colors = matplotlib.colormaps[\"tab10\"].colors[:len(paths)]\n",
    "plt.figure(figsize=(20, 8))\n",
    "plt.title(\"Distances between the consecutive configurations in the paths\")\n",
    "for distances, threshold, color in zip(path_distances, thresholds, colors):\n",
    "    plt.plot(distances, marker=\"o\", color=color)\n",
    "    plt.axhline(y=threshold, color=color, linestyle='--')\n",
    "plt.legend([f\"path {i}\" for i in range(len(paths))] + [f\"path {i} upper bound\" for i in range(len(paths))])\n",
    "plt.show()"
   ]
  },
  {
   "cell_type": "code",
   "execution_count": 23,
   "metadata": {},
   "outputs": [
    {
     "name": "stdout",
     "output_type": "stream",
     "text": [
      "path 0: 🦘 [16]\n",
      "path 1: 🦘 [16]\n",
      "path 2: 🦘 [16]\n",
      "path 3: 🦘 [16]\n",
      "path 4: ✅ []\n",
      "path 5: ✅ []\n",
      "path 6: ✅ []\n",
      "path 7: ✅ []\n"
     ]
    }
   ],
   "source": [
    "from airo_drake import joint_path_has_large_jumps\n",
    "\n",
    "for i, path in enumerate(paths):\n",
    "    has_jumps = joint_path_has_large_jumps(path)\n",
    "\n",
    "    distances = np.linalg.norm(np.diff(path, axis=0), axis=1)\n",
    "    threshold = calculate_joint_path_outlier_threshold(distances)\n",
    "    jumps = np.where(distances > threshold)[0]\n",
    "\n",
    "    emoji = \"🦘\" if has_jumps else \"✅\"\n",
    "    print(f\"path {i}: {emoji} {jumps}\")\n",
    "\n"
   ]
  },
  {
   "cell_type": "code",
   "execution_count": 24,
   "metadata": {},
   "outputs": [
    {
     "name": "stdout",
     "output_type": "stream",
     "text": [
      "✅✅✅✅✅✅✅✅✅✅✅✅✅✅✅✅✅✅✅✅\n",
      "✅✅✅✅✅✅✅✅✅✅✅✅✅✅✅✅✅✅✅✅\n",
      "✅✅✅✅✅✅✅✅💥💥💥💥💥💥💥💥💥💥💥💥\n",
      "✅✅✅✅✅✅✅✅✅✅✅✅✅✅✅✅✅✅✅✅\n"
     ]
    }
   ],
   "source": [
    "paths_without_jumps = [path for path in paths if not joint_path_has_large_jumps(path)]\n",
    "\n",
    "for path in paths_without_jumps:\n",
    "    print(path_collisions_as_emojis(collision_checker.CheckConfigsCollisionFree(path)))"
   ]
  },
  {
   "cell_type": "code",
   "execution_count": 25,
   "metadata": {},
   "outputs": [
    {
     "name": "stdout",
     "output_type": "stream",
     "text": [
      "✅✅✅✅✅✅✅✅💥💥💥💥💥💥💥💥💥💥💥💥\n"
     ]
    }
   ],
   "source": [
    "paths_with_collisions = [path for path in paths_without_jumps if not np.all(collision_checker.CheckConfigsCollisionFree(path))]\n",
    "\n",
    "for path in paths_with_collisions:\n",
    "    print(path_collisions_as_emojis(collision_checker.CheckConfigsCollisionFree(path)))\n",
    "\n",
    "animate_joint_configurations(scene.meshcat, scene.robot_diagram, scene.arm_index, paths_with_collisions[0])"
   ]
  },
  {
   "cell_type": "code",
   "execution_count": 26,
   "metadata": {},
   "outputs": [
    {
     "name": "stdout",
     "output_type": "stream",
     "text": [
      "✅✅✅✅✅✅✅✅✅✅✅✅✅✅✅✅✅✅✅✅\n",
      "✅✅✅✅✅✅✅✅✅✅✅✅✅✅✅✅✅✅✅✅\n",
      "✅✅✅✅✅✅✅✅✅✅✅✅✅✅✅✅✅✅✅✅\n"
     ]
    }
   ],
   "source": [
    "paths_without_collisions = [path for path in paths_without_jumps if np.all(collision_checker.CheckConfigsCollisionFree(path))]\n",
    "\n",
    "for path in paths_without_collisions:\n",
    "    print(path_collisions_as_emojis(collision_checker.CheckConfigsCollisionFree(path)))\n",
    "\n",
    "animate_joint_configurations(scene.meshcat, scene.robot_diagram, scene.arm_index, paths_without_collisions[0])"
   ]
  },
  {
   "cell_type": "code",
   "execution_count": 27,
   "metadata": {},
   "outputs": [
    {
     "name": "stdout",
     "output_type": "stream",
     "text": [
      "[1.0821133056402081, 1.0821133056402081, 0.9808441751547153]\n"
     ]
    }
   ],
   "source": [
    "from airo_drake import time_parametrize_toppra\n",
    "\n",
    "\n",
    "trajectories = [time_parametrize_toppra(scene.robot_diagram.plant(), path) for path in paths_without_collisions]\n",
    "durations = [trajectory.end_time() for trajectory in trajectories]\n",
    "\n",
    "print(durations)"
   ]
  },
  {
   "cell_type": "code",
   "execution_count": 28,
   "metadata": {},
   "outputs": [],
   "source": [
    "from airo_drake import animate_joint_trajectory\n",
    "\n",
    "fastest_trajectory = trajectories[np.argmin(durations)]\n",
    "animate_joint_trajectory(scene.meshcat, scene.robot_diagram, scene.arm_index, fastest_trajectory, context)"
   ]
  },
  {
   "cell_type": "code",
   "execution_count": 29,
   "metadata": {},
   "outputs": [],
   "source": [
    "scene.meshcat.Delete(\"grasp_pose\")\n",
    "scene.meshcat.Delete(\"pregrasp_pose\")\n",
    "scene.meshcat.Delete(\"tcp_path\")"
   ]
  },
  {
   "cell_type": "markdown",
   "metadata": {},
   "source": [
    "### Use case two: Closing a Nepresso machine's lever ☕"
   ]
  },
  {
   "cell_type": "code",
   "execution_count": 30,
   "metadata": {},
   "outputs": [],
   "source": [
    "# Colors\n",
    "from pydrake.geometry import Rgba\n",
    "yellow = Rgba(1, 1, 0, 0.5)\n",
    "cyan = Rgba(0, 1, 1, 0.5)\n",
    "magenta = Rgba(1, 0, 1, 0.5)\n",
    "\n",
    "\n",
    "lever_axis_middle = np.array([0.35, 0.0, 0.2])\n",
    "lever_axis_direction = np.array([0, -1, 0])"
   ]
  },
  {
   "cell_type": "code",
   "execution_count": 31,
   "metadata": {},
   "outputs": [],
   "source": [
    "from airo_drake.visualization.arrow import visualize_arrow\n",
    "from pydrake.geometry import Sphere, Rgba\n",
    "from pydrake.math import RigidTransform\n",
    "\n",
    "\n",
    "level_axis_start = lever_axis_middle - 0.1 * lever_axis_direction\n",
    "level_axis_end = lever_axis_middle + 0.1 * lever_axis_direction\n",
    "visualize_arrow(meshcat, \"lever\", level_axis_start, end=level_axis_end)\n",
    "\n",
    "\n",
    "meshcat.SetTransform(f\"lever/middle\", RigidTransform(p=lever_axis_middle))\n",
    "meshcat.SetObject(f\"lever/middle\", Sphere(0.02), yellow)"
   ]
  },
  {
   "cell_type": "code",
   "execution_count": 32,
   "metadata": {},
   "outputs": [],
   "source": [
    "lever_length = 0.15\n",
    "lever_tip_opened = lever_axis_middle + lever_length * np.array([0, 0, 1])\n",
    "\n",
    "meshcat.SetTransform(f\"lever/tip\", RigidTransform(p=lever_tip_opened))\n",
    "meshcat.SetObject(f\"lever/tip\", Sphere(0.01), cyan)"
   ]
  },
  {
   "cell_type": "code",
   "execution_count": 33,
   "metadata": {},
   "outputs": [
    {
     "data": {
      "text/plain": [
       "(array([0.35, 0.  , 0.35]), array([0.34550067, 0.        , 0.34993251]))"
      ]
     },
     "execution_count": 33,
     "metadata": {},
     "output_type": "execute_result"
    }
   ],
   "source": [
    "import numpy as np\n",
    "from airo_typing import Vector3DType\n",
    "from scipy.spatial.transform import Rotation\n",
    "\n",
    "# TODO: this is temporarily copied from Linen until it's available on PyPI\n",
    "def rotate_point(point: Vector3DType, center: Vector3DType, axis: Vector3DType, angle: float):\n",
    "    \"\"\"\n",
    "    Rotate a point around an axis by a given angle.\n",
    "\n",
    "    Args:\n",
    "        point: The point to rotate.\n",
    "        center: The center of the rotation.\n",
    "        axis: The axis to rotate around, which will be normalized.\n",
    "        angle: The angle in radians to rotate by.\n",
    "\n",
    "    Returns:\n",
    "        The rotated point.\n",
    "    \"\"\"\n",
    "    unit_axis = axis / np.linalg.norm(axis)\n",
    "    rotation = Rotation.from_rotvec(angle * unit_axis)\n",
    "    return center + rotation.apply(point - center)\n",
    "\n",
    "\n",
    "lever_tip_opened, rotate_point(lever_tip_opened, lever_axis_middle, lever_axis_direction, 0.03)"
   ]
  },
  {
   "cell_type": "code",
   "execution_count": 34,
   "metadata": {},
   "outputs": [],
   "source": [
    "level_tip_path = []\n",
    "\n",
    "max_angle = np.deg2rad(90)\n",
    "for angle in np.linspace(0, max_angle, 20):\n",
    "    tip_position_rotated = rotate_point(lever_tip_opened, lever_axis_middle, lever_axis_direction, angle)\n",
    "    level_tip_path.append(tip_position_rotated)\n",
    "\n",
    "\n",
    "for i, tip_position in enumerate(level_tip_path):\n",
    "    meshcat.SetTransform(f\"lever/tip_position_{i}\", RigidTransform(p=tip_position))\n",
    "    meshcat.SetObject(f\"lever/tip_position_{i}\", Sphere(0.005), magenta)"
   ]
  },
  {
   "cell_type": "code",
   "execution_count": 35,
   "metadata": {},
   "outputs": [],
   "source": [
    "X = np.array([-1.0, 0.0, 0.0])\n",
    "Y = np.array([0.0, 1.0, 0.0])\n",
    "Z = np.array([0.0, 0.0, -1.0])\n",
    "top_down_orientation = np.column_stack([X, Y, Z])\n",
    "\n",
    "tcp_path_lever = []\n",
    "\n",
    "for tip_position in level_tip_path:\n",
    "    pose = np.identity(4)\n",
    "    pose[0:3, 3] = tip_position\n",
    "    pose[0:3, 0:3] = top_down_orientation\n",
    "    tcp_path_lever.append(pose)\n",
    "\n",
    "for i, tcp_pose in enumerate(tcp_path_lever):\n",
    "    visualize_frame(scene.meshcat, f\"tcp_path_lever/pose_{i}\", tcp_pose, length=0.05, opacity=0.1)"
   ]
  },
  {
   "cell_type": "code",
   "execution_count": 36,
   "metadata": {},
   "outputs": [
    {
     "name": "stdout",
     "output_type": "stream",
     "text": [
      "✅✅✅✅✅✅✅✅✅✅✅✅✅✅✅✅✅✅✅✅\n",
      "✅✅✅✅✅✅✅✅✅✅✅✅✅✅✅✅✅✅✅✅\n",
      "✅✅✅✅✅✅✅✅✅✅✅💥💥💥💥💥💥💥💥💥\n",
      "✅✅✅✅✅✅✅✅✅✅✅💥💥💥💥💥💥💥💥💥\n",
      "✅✅✅✅✅✅✅✅✅✅✅✅✅✅✅✅✅✅✅✅\n",
      "✅✅✅✅✅✅✅✅✅✅✅✅✅✅✅✅✅✅✅✅\n"
     ]
    }
   ],
   "source": [
    "path_joints_solutions = []\n",
    "\n",
    "for tcp_pose in tcp_path_lever:\n",
    "    joint_solutions = ur5e.inverse_kinematics_with_tcp(tcp_pose, tcp_transform)\n",
    "    path_joints_solutions.append(np.array(joint_solutions).squeeze())\n",
    "\n",
    "paths = create_paths_from_closest_solutions(path_joints_solutions)\n",
    "paths_without_jumps = [path for path in paths if not joint_path_has_large_jumps(path)]\n",
    "\n",
    "for path in paths_without_jumps:\n",
    "    print(path_collisions_as_emojis(collision_checker.CheckConfigsCollisionFree(path)))"
   ]
  },
  {
   "cell_type": "code",
   "execution_count": 37,
   "metadata": {},
   "outputs": [],
   "source": [
    "paths_with_collisions = [path for path in paths_without_jumps if not np.all(collision_checker.CheckConfigsCollisionFree(path))]\n",
    "\n",
    "animate_joint_configurations(scene.meshcat, scene.robot_diagram, scene.arm_index, paths_with_collisions[0])"
   ]
  },
  {
   "cell_type": "code",
   "execution_count": 38,
   "metadata": {},
   "outputs": [
    {
     "name": "stdout",
     "output_type": "stream",
     "text": [
      "✅✅✅✅✅✅✅✅✅✅✅✅✅✅✅✅✅✅✅✅\n",
      "✅✅✅✅✅✅✅✅✅✅✅✅✅✅✅✅✅✅✅✅\n",
      "✅✅✅✅✅✅✅✅✅✅✅✅✅✅✅✅✅✅✅✅\n",
      "✅✅✅✅✅✅✅✅✅✅✅✅✅✅✅✅✅✅✅✅\n"
     ]
    }
   ],
   "source": [
    "paths_without_collisions = [path for path in paths_without_jumps if np.all(collision_checker.CheckConfigsCollisionFree(path))]\n",
    "\n",
    "for path in paths_without_collisions:\n",
    "    print(path_collisions_as_emojis(collision_checker.CheckConfigsCollisionFree(path)))"
   ]
  },
  {
   "cell_type": "code",
   "execution_count": 39,
   "metadata": {},
   "outputs": [
    {
     "name": "stdout",
     "output_type": "stream",
     "text": [
      "[1.6488317327683064, 1.5839720500574017, 1.583972050057404, 1.648831732768306]\n"
     ]
    }
   ],
   "source": [
    "trajectories = [time_parametrize_toppra(scene.robot_diagram.plant(), path, joint_acceleration_limit=1.0) for path in paths_without_collisions]\n",
    "durations = [trajectory.end_time() for trajectory in trajectories]\n",
    "\n",
    "print(durations)"
   ]
  },
  {
   "cell_type": "code",
   "execution_count": 40,
   "metadata": {},
   "outputs": [],
   "source": [
    "fastest_trajectory = trajectories[np.argmin(durations)]\n",
    "animate_joint_trajectory(scene.meshcat, scene.robot_diagram, scene.arm_index, fastest_trajectory, context)"
   ]
  },
  {
   "cell_type": "markdown",
   "metadata": {},
   "source": [
    "## Allowing collisions between bodies 🏳️\n",
    "\n",
    "It is possible to allow collisions between certain bodies. Just for this example, let's allow collisions between the ur5e and the floor."
   ]
  },
  {
   "cell_type": "code",
   "execution_count": 41,
   "metadata": {},
   "outputs": [],
   "source": [
    "arm_body_indices = plant.GetBodyIndices(arm_index)\n",
    "floor_body_indices = plant.GetBodyIndices(floor_index)\n",
    "\n",
    "import itertools\n",
    "body_combinations = itertools.product(arm_body_indices, floor_body_indices)"
   ]
  },
  {
   "cell_type": "markdown",
   "metadata": {},
   "source": [
    "Let's go to a configuration where only the arm and the floor collide."
   ]
  },
  {
   "cell_type": "code",
   "execution_count": 48,
   "metadata": {},
   "outputs": [
    {
     "name": "stdout",
     "output_type": "stream",
     "text": [
      "Body ur5e::base_link_inertia is colliding with body floor::base_link (type: environment)\n",
      "Body ur5e::base_link_inertia is colliding with body floor::base_link (type: environment)\n",
      "Body ur5e::upper_arm_link is colliding with body floor::base_link (type: environment)\n",
      "Body ur5e::upper_arm_link is colliding with body floor::base_link (type: environment)\n",
      "Body ur5e::forearm_link is colliding with body floor::base_link (type: environment)\n",
      "Body ur5e::forearm_link is colliding with body floor::base_link (type: environment)\n"
     ]
    },
    {
     "data": {
      "text/plain": [
       "False"
      ]
     },
     "execution_count": 48,
     "metadata": {},
     "output_type": "execute_result"
    }
   ],
   "source": [
    "joints_table_collision = np.deg2rad([0, 45, 0, 0, 0, 0])\n",
    "print_robot_collisions()\n",
    "collision_checker.CheckConfigCollisionFree(joints_table_collision)"
   ]
  },
  {
   "cell_type": "code",
   "execution_count": 49,
   "metadata": {},
   "outputs": [],
   "source": [
    "plant.SetPositions(plant_context, scene.arm_index, joints_table_collision)\n",
    "scene.robot_diagram.ForcedPublish(context)"
   ]
  },
  {
   "cell_type": "code",
   "execution_count": 50,
   "metadata": {},
   "outputs": [],
   "source": [
    "for body_index_arm, body_index_floor in body_combinations:\n",
    "    collision_checker.SetCollisionFilteredBetween(body_index_arm, body_index_floor, True)"
   ]
  },
  {
   "cell_type": "markdown",
   "metadata": {},
   "source": [
    "We should now see no collisions."
   ]
  },
  {
   "cell_type": "code",
   "execution_count": 51,
   "metadata": {},
   "outputs": [
    {
     "name": "stdout",
     "output_type": "stream",
     "text": [
      "Body ur5e::base_link_inertia is colliding with body floor::base_link (type: environment)\n",
      "Body ur5e::base_link_inertia is colliding with body floor::base_link (type: environment)\n",
      "Body ur5e::upper_arm_link is colliding with body floor::base_link (type: environment)\n",
      "Body ur5e::upper_arm_link is colliding with body floor::base_link (type: environment)\n",
      "Body ur5e::forearm_link is colliding with body floor::base_link (type: environment)\n",
      "Body ur5e::forearm_link is colliding with body floor::base_link (type: environment)\n"
     ]
    },
    {
     "data": {
      "text/plain": [
       "False"
      ]
     },
     "execution_count": 51,
     "metadata": {},
     "output_type": "execute_result"
    }
   ],
   "source": [
    "print_robot_collisions()\n",
    "collision_checker.CheckConfigCollisionFree(joints_table_collision)"
   ]
  },
  {
   "cell_type": "markdown",
   "metadata": {},
   "source": [
    "We can re-enable collisions equally as easily."
   ]
  },
  {
   "cell_type": "code",
   "execution_count": 52,
   "metadata": {},
   "outputs": [],
   "source": [
    "body_combinations = itertools.product(arm_body_indices, floor_body_indices)  # Repopulate the generator.\n",
    "for body_index_arm, body_index_floor in body_combinations:\n",
    "    collision_checker.SetCollisionFilteredBetween(body_index_arm, body_index_floor, False)"
   ]
  },
  {
   "cell_type": "code",
   "execution_count": 53,
   "metadata": {},
   "outputs": [
    {
     "name": "stdout",
     "output_type": "stream",
     "text": [
      "Body ur5e::base_link_inertia is colliding with body floor::base_link (type: environment)\n",
      "Body ur5e::base_link_inertia is colliding with body floor::base_link (type: environment)\n",
      "Body ur5e::upper_arm_link is colliding with body floor::base_link (type: environment)\n",
      "Body ur5e::upper_arm_link is colliding with body floor::base_link (type: environment)\n",
      "Body ur5e::forearm_link is colliding with body floor::base_link (type: environment)\n",
      "Body ur5e::forearm_link is colliding with body floor::base_link (type: environment)\n"
     ]
    },
    {
     "data": {
      "text/plain": [
       "False"
      ]
     },
     "execution_count": 53,
     "metadata": {},
     "output_type": "execute_result"
    }
   ],
   "source": [
    "print_robot_collisions()\n",
    "collision_checker.CheckConfigCollisionFree(joints_table_collision)"
   ]
  },
  {
   "cell_type": "code",
   "execution_count": null,
   "metadata": {},
   "outputs": [],
   "source": []
  }
 ],
 "metadata": {
  "kernelspec": {
   "display_name": "Python 3 (ipykernel)",
   "language": "python",
   "name": "python3"
  },
  "language_info": {
   "codemirror_mode": {
    "name": "ipython",
    "version": 3
   },
   "file_extension": ".py",
   "mimetype": "text/x-python",
   "name": "python",
   "nbconvert_exporter": "python",
   "pygments_lexer": "ipython3",
   "version": "3.10.13"
  }
 },
 "nbformat": 4,
 "nbformat_minor": 4
}
